{
 "cells": [
  {
   "cell_type": "code",
   "execution_count": 1,
   "id": "initial_id",
   "metadata": {
    "collapsed": true,
    "ExecuteTime": {
     "end_time": "2023-08-02T07:32:52.062426Z",
     "start_time": "2023-08-02T07:32:51.114756Z"
    }
   },
   "outputs": [],
   "source": [
    "import torch"
   ]
  },
  {
   "cell_type": "code",
   "execution_count": 5,
   "outputs": [
    {
     "data": {
      "text/plain": "(torch.float64, torch.int16)"
     },
     "execution_count": 5,
     "metadata": {},
     "output_type": "execute_result"
    }
   ],
   "source": [
    "double_points = torch.ones(10, 2, dtype=torch.double) # 10行 2 列\n",
    "\n",
    "short_points = torch.tensor([[1, 2], [3, 4]], dtype=torch.short)\n",
    "\n",
    "double_points.dtype, short_points.dtype"
   ],
   "metadata": {
    "collapsed": false,
    "ExecuteTime": {
     "end_time": "2023-08-02T07:34:56.004064Z",
     "start_time": "2023-08-02T07:34:55.980623Z"
    }
   },
   "id": "c6dc3a339fa87b6a"
  },
  {
   "cell_type": "code",
   "execution_count": 11,
   "outputs": [
    {
     "data": {
      "text/plain": "tensor([[0, 0],\n        [0, 0],\n        [0, 0],\n        [0, 0],\n        [0, 0]], dtype=torch.int16)"
     },
     "execution_count": 11,
     "metadata": {},
     "output_type": "execute_result"
    }
   ],
   "source": [
    "double_points = torch.zeros(10, 2).double()\n",
    "short_points = torch.zeros(5,2).short()\n",
    "short_points\n",
    "\n",
    "double_points = torch.zeros(10, 2).to(torch.double)\n",
    "short_points = torch.zeros(5,2).to(dtype=torch.short)\n",
    "short_points\n",
    "\n",
    "# 两种方式等价"
   ],
   "metadata": {
    "collapsed": false,
    "ExecuteTime": {
     "end_time": "2023-08-02T07:38:45.699860Z",
     "start_time": "2023-08-02T07:38:45.676730Z"
    }
   },
   "id": "f75de2f377339645"
  },
  {
   "cell_type": "code",
   "execution_count": 17,
   "outputs": [
    {
     "name": "stdout",
     "output_type": "stream",
     "text": [
      "tensor([0, 0, 0, 0, 0], dtype=torch.int16)\n",
      "tensor([0.1518, 0.0495, 0.9579, 0.3139, 0.1086], dtype=torch.float64)\n"
     ]
    }
   ],
   "source": [
    "points_64 = torch.rand(5, dtype=torch.double)\n",
    "points_short = points_64.to(torch.short)\n",
    "print(points_short) # 浮点数转为整数不会四舍五入 而是直接取整数部分全为 0\n",
    "print(points_64)"
   ],
   "metadata": {
    "collapsed": false,
    "ExecuteTime": {
     "end_time": "2023-08-02T07:41:08.770503Z",
     "start_time": "2023-08-02T07:41:08.754941Z"
    }
   },
   "id": "4c08aab82af72862"
  },
  {
   "cell_type": "code",
   "execution_count": 18,
   "outputs": [
    {
     "data": {
      "text/plain": "tensor([0., 0., 0., 0., 0.], dtype=torch.float64)"
     },
     "execution_count": 18,
     "metadata": {},
     "output_type": "execute_result"
    }
   ],
   "source": [
    "points_64 * points_short # 对应元素相乘 内积"
   ],
   "metadata": {
    "collapsed": false,
    "ExecuteTime": {
     "end_time": "2023-08-02T07:42:09.414537Z",
     "start_time": "2023-08-02T07:42:09.397497Z"
    }
   },
   "id": "1997df2098ed7c3b"
  }
 ],
 "metadata": {
  "kernelspec": {
   "display_name": "Python 3",
   "language": "python",
   "name": "python3"
  },
  "language_info": {
   "codemirror_mode": {
    "name": "ipython",
    "version": 2
   },
   "file_extension": ".py",
   "mimetype": "text/x-python",
   "name": "python",
   "nbconvert_exporter": "python",
   "pygments_lexer": "ipython2",
   "version": "2.7.6"
  }
 },
 "nbformat": 4,
 "nbformat_minor": 5
}
