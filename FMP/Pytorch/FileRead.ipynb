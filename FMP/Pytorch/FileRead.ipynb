{
 "cells": [
  {
   "cell_type": "code",
   "execution_count": 1,
   "outputs": [],
   "source": [
    "import torch"
   ],
   "metadata": {
    "collapsed": false,
    "ExecuteTime": {
     "end_time": "2023-08-02T08:04:33.423989Z",
     "start_time": "2023-08-02T08:04:32.534164Z"
    }
   },
   "id": "270f7859eaeb6768"
  },
  {
   "cell_type": "code",
   "execution_count": 2,
   "outputs": [
    {
     "data": {
      "text/plain": "tensor([[0., 0.],\n        [0., 0.],\n        [0., 0.],\n        [0., 0.]])"
     },
     "execution_count": 2,
     "metadata": {},
     "output_type": "execute_result"
    }
   ],
   "source": [
    "points = torch.zeros(4,2)\n",
    "points\n"
   ],
   "metadata": {
    "collapsed": false,
    "ExecuteTime": {
     "end_time": "2023-08-02T08:05:40.563408Z",
     "start_time": "2023-08-02T08:05:40.534388Z"
    }
   },
   "id": "f30ee8a007690935"
  },
  {
   "cell_type": "code",
   "execution_count": 4,
   "outputs": [],
   "source": [
    "torch.save(points, '/Users/zcq30/Documents/XJLTU Learning/XJTLU/FMP/Pytorch/DeepLearningWithPytorch/Code/p1ch3zero4_2.t')"
   ],
   "metadata": {
    "collapsed": false,
    "ExecuteTime": {
     "end_time": "2023-08-02T08:06:31.261968Z",
     "start_time": "2023-08-02T08:06:31.257625Z"
    }
   },
   "id": "45b8e6d1e74ae145"
  },
  {
   "cell_type": "code",
   "execution_count": 5,
   "outputs": [],
   "source": [
    "with open('/Users/zcq30/Documents/XJLTU Learning/XJTLU/FMP/Pytorch/DeepLearningWithPytorch/Code/p1ch3zero4_2.t', 'wb') as f:\n",
    "    torch.save(points, f)"
   ],
   "metadata": {
    "collapsed": false,
    "ExecuteTime": {
     "end_time": "2023-08-02T08:07:30.221313Z",
     "start_time": "2023-08-02T08:07:30.199804Z"
    }
   },
   "id": "1c9c3dc6c0ec751f"
  },
  {
   "cell_type": "code",
   "execution_count": 7,
   "outputs": [
    {
     "data": {
      "text/plain": "tensor([[0., 0.],\n        [0., 0.],\n        [0., 0.],\n        [0., 0.]])"
     },
     "execution_count": 7,
     "metadata": {},
     "output_type": "execute_result"
    }
   ],
   "source": [
    "a = torch.load(\"/Users/zcq30/Documents/XJLTU Learning/XJTLU/FMP/Pytorch/DeepLearningWithPytorch/Code/p1ch3zero4_2.t\")\n",
    "a"
   ],
   "metadata": {
    "collapsed": false,
    "ExecuteTime": {
     "end_time": "2023-08-02T08:08:01.167450Z",
     "start_time": "2023-08-02T08:08:01.159592Z"
    }
   },
   "id": "8ec5b89194493d21"
  },
  {
   "cell_type": "code",
   "execution_count": 9,
   "outputs": [
    {
     "data": {
      "text/plain": "tensor([[0., 0.],\n        [0., 0.],\n        [0., 0.],\n        [0., 0.]])"
     },
     "execution_count": 9,
     "metadata": {},
     "output_type": "execute_result"
    }
   ],
   "source": [
    "with open('/Users/zcq30/Documents/XJLTU Learning/XJTLU/FMP/Pytorch/DeepLearningWithPytorch/Code/p1ch3zero4_2.t', 'rb') as f:\n",
    "    a = torch.load(f)\n",
    "a"
   ],
   "metadata": {
    "collapsed": false,
    "ExecuteTime": {
     "end_time": "2023-08-02T08:08:33.625017Z",
     "start_time": "2023-08-02T08:08:33.607924Z"
    }
   },
   "id": "eabd129f26c46a6b"
  },
  {
   "cell_type": "code",
   "execution_count": 12,
   "outputs": [],
   "source": [
    "import h5py"
   ],
   "metadata": {
    "collapsed": false,
    "ExecuteTime": {
     "end_time": "2023-08-02T08:10:00.557840Z",
     "start_time": "2023-08-02T08:10:00.478284Z"
    }
   },
   "id": "af042ec85b609253"
  },
  {
   "cell_type": "code",
   "execution_count": 16,
   "outputs": [
    {
     "data": {
      "text/plain": "<bound method File.close of <HDF5 file \"p1ch3zero4_2hdf5.hdf5\" (mode r+)>>"
     },
     "execution_count": 16,
     "metadata": {},
     "output_type": "execute_result"
    }
   ],
   "source": [
    "f = h5py.File('/Users/zcq30/Documents/XJLTU Learning/XJTLU/FMP/Pytorch/DeepLearningWithPytorch/Code/p1ch3zero4_2hdf5.hdf5', 'w')\n",
    "dset = f.create_dataset('coords', data=points.numpy())\n",
    "f.close\n",
    "# 写"
   ],
   "metadata": {
    "collapsed": false,
    "ExecuteTime": {
     "end_time": "2023-08-02T08:10:34.122824Z",
     "start_time": "2023-08-02T08:10:34.107977Z"
    }
   },
   "id": "156915c9ac3ccc45"
  },
  {
   "cell_type": "code",
   "execution_count": 17,
   "outputs": [
    {
     "data": {
      "text/plain": "<HDF5 dataset \"coords\": shape (4, 2), type \"<f4\">"
     },
     "execution_count": 17,
     "metadata": {},
     "output_type": "execute_result"
    }
   ],
   "source": [
    "f = h5py.File('/Users/zcq30/Documents/XJLTU Learning/XJTLU/FMP/Pytorch/DeepLearningWithPytorch/Code/p1ch3zero4_2hdf5.hdf5', 'r')\n",
    "dset = f['coords']\n",
    "dset"
   ],
   "metadata": {
    "collapsed": false,
    "ExecuteTime": {
     "end_time": "2023-08-02T08:11:13.783409Z",
     "start_time": "2023-08-02T08:11:13.758551Z"
    }
   },
   "id": "80d5e68b860ca478"
  },
  {
   "cell_type": "code",
   "execution_count": 18,
   "outputs": [
    {
     "name": "stdout",
     "output_type": "stream",
     "text": [
      "<HDF5 dataset \"coords\": shape (4, 2), type \"<f4\">\n"
     ]
    }
   ],
   "source": [
    "print(dset)"
   ],
   "metadata": {
    "collapsed": false,
    "ExecuteTime": {
     "end_time": "2023-08-02T08:11:25.350186Z",
     "start_time": "2023-08-02T08:11:25.326566Z"
    }
   },
   "id": "e5bae76265dde26d"
  },
  {
   "cell_type": "code",
   "execution_count": 21,
   "outputs": [],
   "source": [
    "last_points = dset[:]"
   ],
   "metadata": {
    "collapsed": false,
    "ExecuteTime": {
     "end_time": "2023-08-02T08:11:49.061925Z",
     "start_time": "2023-08-02T08:11:49.055706Z"
    }
   },
   "id": "ffffdf42caa2d87f"
  },
  {
   "cell_type": "code",
   "execution_count": 22,
   "outputs": [
    {
     "data": {
      "text/plain": "array([[0., 0.],\n       [0., 0.],\n       [0., 0.],\n       [0., 0.]], dtype=float32)"
     },
     "execution_count": 22,
     "metadata": {},
     "output_type": "execute_result"
    }
   ],
   "source": [
    "last_points"
   ],
   "metadata": {
    "collapsed": false,
    "ExecuteTime": {
     "end_time": "2023-08-02T08:11:50.316721Z",
     "start_time": "2023-08-02T08:11:50.298148Z"
    }
   },
   "id": "6e8f67b964bb2a79"
  },
  {
   "cell_type": "code",
   "execution_count": 24,
   "outputs": [],
   "source": [
    "points = torch.tensor(dset[:])\n",
    "points\n",
    "f.close()"
   ],
   "metadata": {
    "collapsed": false,
    "ExecuteTime": {
     "end_time": "2023-08-02T08:12:29.467026Z",
     "start_time": "2023-08-02T08:12:29.460168Z"
    }
   },
   "id": "64451696a15edd7b"
  },
  {
   "cell_type": "code",
   "execution_count": 29,
   "outputs": [],
   "source": [
    "points_GPU_0 = torch.tensor([[4.0, 1.0], [2.0, 4.0]], device='mps:0')"
   ],
   "metadata": {
    "collapsed": false,
    "ExecuteTime": {
     "end_time": "2023-08-02T08:15:53.271387Z",
     "start_time": "2023-08-02T08:15:53.240745Z"
    }
   },
   "id": "fb66525ea28a276d"
  },
  {
   "cell_type": "code",
   "execution_count": 30,
   "outputs": [],
   "source": [
    "points_GPU_5 = torch.tensor([[4.0, 1.0], [2.0, 4.0]], device='mps:5')"
   ],
   "metadata": {
    "collapsed": false,
    "ExecuteTime": {
     "end_time": "2023-08-02T08:15:57.715326Z",
     "start_time": "2023-08-02T08:15:57.702441Z"
    }
   },
   "id": "9d3a861a3b9abf00"
  },
  {
   "cell_type": "code",
   "execution_count": 31,
   "outputs": [
    {
     "data": {
      "text/plain": "tensor([[8., 2.],\n        [4., 8.]], device='mps:0')"
     },
     "execution_count": 31,
     "metadata": {},
     "output_type": "execute_result"
    }
   ],
   "source": [
    "points_GPU_0 + points_GPU_5"
   ],
   "metadata": {
    "collapsed": false,
    "ExecuteTime": {
     "end_time": "2023-08-02T08:16:08.382352Z",
     "start_time": "2023-08-02T08:16:08.349533Z"
    }
   },
   "id": "a6569e7b0c4ec00e"
  },
  {
   "cell_type": "code",
   "execution_count": null,
   "outputs": [],
   "source": [],
   "metadata": {
    "collapsed": false
   },
   "id": "ddf941caabe268e0"
  }
 ],
 "metadata": {
  "kernelspec": {
   "display_name": "Python 3",
   "language": "python",
   "name": "python3"
  },
  "language_info": {
   "codemirror_mode": {
    "name": "ipython",
    "version": 2
   },
   "file_extension": ".py",
   "mimetype": "text/x-python",
   "name": "python",
   "nbconvert_exporter": "python",
   "pygments_lexer": "ipython2",
   "version": "2.7.6"
  }
 },
 "nbformat": 4,
 "nbformat_minor": 5
}
